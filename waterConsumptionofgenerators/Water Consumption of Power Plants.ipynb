{
 "cells": [
  {
   "cell_type": "markdown",
   "metadata": {},
   "source": [
    "# How much water does it take to make electricity?\n",
    "\n",
    ">Water, as we know, is a really important resource. Given that we are already straining our water resources, some states already are planning for their water shortages. It would be good to understand the impact of power generation on water. As electricity can be generated in different ways, let's explore the best ways to generate electricity with respect to water usage. \n",
    "\n",
    ">Department of Energy published the following water consumption and withdrawl [data](https://catalog.data.gov/dataset/operational-water-consumption-and-withdrawal-factors-for-electricity-generating-technologi) for different electricity generators. Looking into the dataset we understand that there is a difference between consumption and withdrawl of water. In essence, if the power plant uses water from a river for a process and pumps that water back, it is called withdrawl. But if the water is converted into steam, and not returned to the water source it's called consumption. \n"
   ]
  },
  {
   "cell_type": "code",
   "execution_count": 1,
   "metadata": {
    "scrolled": true
   },
   "outputs": [
    {
     "data": {
      "text/html": [
       "<div>\n",
       "<style scoped>\n",
       "    .dataframe tbody tr th:only-of-type {\n",
       "        vertical-align: middle;\n",
       "    }\n",
       "\n",
       "    .dataframe tbody tr th {\n",
       "        vertical-align: top;\n",
       "    }\n",
       "\n",
       "    .dataframe thead th {\n",
       "        text-align: right;\n",
       "    }\n",
       "</style>\n",
       "<table border=\"1\" class=\"dataframe\">\n",
       "  <thead>\n",
       "    <tr style=\"text-align: right;\">\n",
       "      <th></th>\n",
       "      <th>Source</th>\n",
       "      <th>Fuel</th>\n",
       "      <th>Prime Mover</th>\n",
       "      <th>Cooling System</th>\n",
       "      <th>Notes</th>\n",
       "      <th>Median Value</th>\n",
       "      <th>Unit</th>\n",
       "    </tr>\n",
       "  </thead>\n",
       "  <tbody>\n",
       "    <tr>\n",
       "      <th>0</th>\n",
       "      <td>NETL 2010a</td>\n",
       "      <td>Coal</td>\n",
       "      <td>IGCC</td>\n",
       "      <td>Recirculating</td>\n",
       "      <td>NaN</td>\n",
       "      <td>360</td>\n",
       "      <td>gal/MWh</td>\n",
       "    </tr>\n",
       "    <tr>\n",
       "      <th>1</th>\n",
       "      <td>NETL 2010a</td>\n",
       "      <td>Coal</td>\n",
       "      <td>IGCC</td>\n",
       "      <td>Recirculating</td>\n",
       "      <td>NaN</td>\n",
       "      <td>330</td>\n",
       "      <td>gal/MWh</td>\n",
       "    </tr>\n",
       "    <tr>\n",
       "      <th>2</th>\n",
       "      <td>NETL 2010a</td>\n",
       "      <td>Coal</td>\n",
       "      <td>IGCC</td>\n",
       "      <td>Recirculating</td>\n",
       "      <td>NaN</td>\n",
       "      <td>318</td>\n",
       "      <td>gal/MWh</td>\n",
       "    </tr>\n",
       "    <tr>\n",
       "      <th>3</th>\n",
       "      <td>NETL 2007b</td>\n",
       "      <td>Coal</td>\n",
       "      <td>IGCC</td>\n",
       "      <td>Recirculating</td>\n",
       "      <td>NaN</td>\n",
       "      <td>372</td>\n",
       "      <td>gal/MWh</td>\n",
       "    </tr>\n",
       "    <tr>\n",
       "      <th>4</th>\n",
       "      <td>NETL 2007b</td>\n",
       "      <td>Coal</td>\n",
       "      <td>IGCC</td>\n",
       "      <td>Recirculating</td>\n",
       "      <td>NaN</td>\n",
       "      <td>390</td>\n",
       "      <td>gal/MWh</td>\n",
       "    </tr>\n",
       "  </tbody>\n",
       "</table>\n",
       "</div>"
      ],
      "text/plain": [
       "       Source  Fuel Prime Mover Cooling System Notes  Median Value     Unit\n",
       "0  NETL 2010a  Coal        IGCC  Recirculating   NaN           360  gal/MWh\n",
       "1  NETL 2010a  Coal        IGCC  Recirculating   NaN           330  gal/MWh\n",
       "2  NETL 2010a  Coal        IGCC  Recirculating   NaN           318  gal/MWh\n",
       "3  NETL 2007b  Coal        IGCC  Recirculating   NaN           372  gal/MWh\n",
       "4  NETL 2007b  Coal        IGCC  Recirculating   NaN           390  gal/MWh"
      ]
     },
     "execution_count": 1,
     "metadata": {},
     "output_type": "execute_result"
    }
   ],
   "source": [
    "import pandas as pd\n",
    "df = pd.read_csv(r'./summarywaterfactorsopenei.csv')\n",
    "df.head()\n"
   ]
  },
  {
   "cell_type": "code",
   "execution_count": 5,
   "metadata": {},
   "outputs": [
    {
     "data": {
      "text/html": [
       "<div>\n",
       "<style scoped>\n",
       "    .dataframe tbody tr th:only-of-type {\n",
       "        vertical-align: middle;\n",
       "    }\n",
       "\n",
       "    .dataframe tbody tr th {\n",
       "        vertical-align: top;\n",
       "    }\n",
       "\n",
       "    .dataframe thead th {\n",
       "        text-align: right;\n",
       "    }\n",
       "</style>\n",
       "<table border=\"1\" class=\"dataframe\">\n",
       "  <thead>\n",
       "    <tr style=\"text-align: right;\">\n",
       "      <th></th>\n",
       "      <th>Water gal/MWh</th>\n",
       "    </tr>\n",
       "    <tr>\n",
       "      <th>Fuel</th>\n",
       "      <th></th>\n",
       "    </tr>\n",
       "  </thead>\n",
       "  <tbody>\n",
       "    <tr>\n",
       "      <th>Nuclear</th>\n",
       "      <td>536.333333</td>\n",
       "    </tr>\n",
       "    <tr>\n",
       "      <th>CSP</th>\n",
       "      <td>531.214286</td>\n",
       "    </tr>\n",
       "    <tr>\n",
       "      <th>Coal</th>\n",
       "      <td>462.732143</td>\n",
       "    </tr>\n",
       "    <tr>\n",
       "      <th>Biopower</th>\n",
       "      <td>438.875000</td>\n",
       "    </tr>\n",
       "    <tr>\n",
       "      <th>Natural Gas</th>\n",
       "      <td>321.100000</td>\n",
       "    </tr>\n",
       "    <tr>\n",
       "      <th>Geothermal</th>\n",
       "      <td>232.888889</td>\n",
       "    </tr>\n",
       "    <tr>\n",
       "      <th>PV</th>\n",
       "      <td>2.000000</td>\n",
       "    </tr>\n",
       "    <tr>\n",
       "      <th>Wind</th>\n",
       "      <td>0.000000</td>\n",
       "    </tr>\n",
       "  </tbody>\n",
       "</table>\n",
       "</div>"
      ],
      "text/plain": [
       "             Water gal/MWh\n",
       "Fuel                      \n",
       "Nuclear         536.333333\n",
       "CSP             531.214286\n",
       "Coal            462.732143\n",
       "Biopower        438.875000\n",
       "Natural Gas     321.100000\n",
       "Geothermal      232.888889\n",
       "PV                2.000000\n",
       "Wind              0.000000"
      ]
     },
     "execution_count": 5,
     "metadata": {},
     "output_type": "execute_result"
    }
   ],
   "source": [
    "waterConsumption = df.groupby(by=['Fuel']).mean()\n",
    "waterConsumption = waterConsumption.sort_values(by=['Median Value'], ascending=False)\n",
    "waterConsumption.columns =['Water gal/MWh']\n",
    "waterConsumption.to_csv('./WaterConsumptionPerSource.csv')\n",
    "waterConsumption.to_html('./waterconsumption.html')\n",
    "waterConsumption"
   ]
  },
  {
   "cell_type": "code",
   "execution_count": 10,
   "metadata": {},
   "outputs": [],
   "source": [
    "def tablecss(s):\n",
    "    css = \"\"\"\n",
    "        table {\n",
    "    width: 60%;\n",
    "    border-collapse: collapse;\n",
    "}\n",
    "\n",
    "table,th,td {\n",
    "border: 1px solid black;\n",
    "}\n",
    "th {\n",
    "    height: 30%;\n",
    "\n",
    "}\n",
    "tr:nth-child(even) {background-color: #f2f2f2;}\n",
    "th, td {\n",
    "    padding: 3%;\n",
    "    text-align: center;\n",
    "}\n",
    "        \"\"\"\n",
    "    return css"
   ]
  },
  {
   "cell_type": "code",
   "execution_count": 11,
   "metadata": {},
   "outputs": [
    {
     "ename": "ValueError",
     "evalue": "Function <function tablecss at 0x7f272462cd90> returned the wrong shape.\nResult has shape: (1,)\nExpected shape:   (8, 1)",
     "output_type": "error",
     "traceback": [
      "\u001b[0;31m---------------------------------------------------------------------------\u001b[0m",
      "\u001b[0;31mValueError\u001b[0m                                Traceback (most recent call last)",
      "\u001b[0;32m<ipython-input-11-11da63387318>\u001b[0m in \u001b[0;36m<module>\u001b[0;34m()\u001b[0m\n\u001b[0;32m----> 1\u001b[0;31m \u001b[0mwaterConsumption\u001b[0m\u001b[0;34m.\u001b[0m\u001b[0mstyle\u001b[0m\u001b[0;34m.\u001b[0m\u001b[0mapply\u001b[0m\u001b[0;34m(\u001b[0m\u001b[0mtablecss\u001b[0m\u001b[0;34m)\u001b[0m\u001b[0;34m.\u001b[0m\u001b[0mrender\u001b[0m\u001b[0;34m(\u001b[0m\u001b[0;34m)\u001b[0m\u001b[0;34m\u001b[0m\u001b[0m\n\u001b[0m",
      "\u001b[0;32m~/anaconda3/lib/python3.6/site-packages/pandas/io/formats/style.py\u001b[0m in \u001b[0;36mrender\u001b[0;34m(self, **kwargs)\u001b[0m\n\u001b[1;32m    444\u001b[0m         \u001b[0;34m*\u001b[0m \u001b[0mtable_attributes\u001b[0m\u001b[0;34m\u001b[0m\u001b[0m\n\u001b[1;32m    445\u001b[0m         \"\"\"\n\u001b[0;32m--> 446\u001b[0;31m         \u001b[0mself\u001b[0m\u001b[0;34m.\u001b[0m\u001b[0m_compute\u001b[0m\u001b[0;34m(\u001b[0m\u001b[0;34m)\u001b[0m\u001b[0;34m\u001b[0m\u001b[0m\n\u001b[0m\u001b[1;32m    447\u001b[0m         \u001b[0;31m# TODO: namespace all the pandas keys\u001b[0m\u001b[0;34m\u001b[0m\u001b[0;34m\u001b[0m\u001b[0m\n\u001b[1;32m    448\u001b[0m         \u001b[0md\u001b[0m \u001b[0;34m=\u001b[0m \u001b[0mself\u001b[0m\u001b[0;34m.\u001b[0m\u001b[0m_translate\u001b[0m\u001b[0;34m(\u001b[0m\u001b[0;34m)\u001b[0m\u001b[0;34m\u001b[0m\u001b[0m\n",
      "\u001b[0;32m~/anaconda3/lib/python3.6/site-packages/pandas/io/formats/style.py\u001b[0m in \u001b[0;36m_compute\u001b[0;34m(self)\u001b[0m\n\u001b[1;32m    512\u001b[0m         \u001b[0mr\u001b[0m \u001b[0;34m=\u001b[0m \u001b[0mself\u001b[0m\u001b[0;34m\u001b[0m\u001b[0m\n\u001b[1;32m    513\u001b[0m         \u001b[0;32mfor\u001b[0m \u001b[0mfunc\u001b[0m\u001b[0;34m,\u001b[0m \u001b[0margs\u001b[0m\u001b[0;34m,\u001b[0m \u001b[0mkwargs\u001b[0m \u001b[0;32min\u001b[0m \u001b[0mself\u001b[0m\u001b[0;34m.\u001b[0m\u001b[0m_todo\u001b[0m\u001b[0;34m:\u001b[0m\u001b[0;34m\u001b[0m\u001b[0m\n\u001b[0;32m--> 514\u001b[0;31m             \u001b[0mr\u001b[0m \u001b[0;34m=\u001b[0m \u001b[0mfunc\u001b[0m\u001b[0;34m(\u001b[0m\u001b[0mself\u001b[0m\u001b[0;34m)\u001b[0m\u001b[0;34m(\u001b[0m\u001b[0;34m*\u001b[0m\u001b[0margs\u001b[0m\u001b[0;34m,\u001b[0m \u001b[0;34m**\u001b[0m\u001b[0mkwargs\u001b[0m\u001b[0;34m)\u001b[0m\u001b[0;34m\u001b[0m\u001b[0m\n\u001b[0m\u001b[1;32m    515\u001b[0m         \u001b[0;32mreturn\u001b[0m \u001b[0mr\u001b[0m\u001b[0;34m\u001b[0m\u001b[0m\n\u001b[1;32m    516\u001b[0m \u001b[0;34m\u001b[0m\u001b[0m\n",
      "\u001b[0;32m~/anaconda3/lib/python3.6/site-packages/pandas/io/formats/style.py\u001b[0m in \u001b[0;36m_apply\u001b[0;34m(self, func, axis, subset, **kwargs)\u001b[0m\n\u001b[1;32m    544\u001b[0m                                                        \u001b[0mres\u001b[0m\u001b[0;34m=\u001b[0m\u001b[0mresult\u001b[0m\u001b[0;34m.\u001b[0m\u001b[0mshape\u001b[0m\u001b[0;34m,\u001b[0m\u001b[0;34m\u001b[0m\u001b[0m\n\u001b[1;32m    545\u001b[0m                                                        expect=expected_shape))\n\u001b[0;32m--> 546\u001b[0;31m             \u001b[0;32mraise\u001b[0m \u001b[0mValueError\u001b[0m\u001b[0;34m(\u001b[0m\u001b[0mmsg\u001b[0m\u001b[0;34m)\u001b[0m\u001b[0;34m\u001b[0m\u001b[0m\n\u001b[0m\u001b[1;32m    547\u001b[0m         \u001b[0mself\u001b[0m\u001b[0;34m.\u001b[0m\u001b[0m_update_ctx\u001b[0m\u001b[0;34m(\u001b[0m\u001b[0mresult\u001b[0m\u001b[0;34m)\u001b[0m\u001b[0;34m\u001b[0m\u001b[0m\n\u001b[1;32m    548\u001b[0m         \u001b[0;32mreturn\u001b[0m \u001b[0mself\u001b[0m\u001b[0;34m\u001b[0m\u001b[0m\n",
      "\u001b[0;31mValueError\u001b[0m: Function <function tablecss at 0x7f272462cd90> returned the wrong shape.\nResult has shape: (1,)\nExpected shape:   (8, 1)"
     ]
    }
   ],
   "source": [
    "waterConsumption.to_html('./waterconsumption.html')\n",
    "#terConsumption.style.apply(tablecss).render()"
   ]
  },
  {
   "cell_type": "code",
   "execution_count": 3,
   "metadata": {},
   "outputs": [
    {
     "data": {
      "text/plain": [
       "<matplotlib.axes._subplots.AxesSubplot at 0x7f2728eae748>"
      ]
     },
     "execution_count": 3,
     "metadata": {},
     "output_type": "execute_result"
    }
   ],
   "source": [
    "    waterConsumption.plot(kind='Bar')"
   ]
  },
  {
   "cell_type": "code",
   "execution_count": 4,
   "metadata": {},
   "outputs": [
    {
     "data": {
      "text/html": [
       "<div>\n",
       "<style scoped>\n",
       "    .dataframe tbody tr th:only-of-type {\n",
       "        vertical-align: middle;\n",
       "    }\n",
       "\n",
       "    .dataframe tbody tr th {\n",
       "        vertical-align: top;\n",
       "    }\n",
       "\n",
       "    .dataframe thead th {\n",
       "        text-align: right;\n",
       "    }\n",
       "</style>\n",
       "<table border=\"1\" class=\"dataframe\">\n",
       "  <thead>\n",
       "    <tr style=\"text-align: right;\">\n",
       "      <th></th>\n",
       "      <th>Fuel</th>\n",
       "      <th>Energy Billion kWh</th>\n",
       "    </tr>\n",
       "  </thead>\n",
       "  <tbody>\n",
       "    <tr>\n",
       "      <th>0</th>\n",
       "      <td>Nuclear</td>\n",
       "      <td>805</td>\n",
       "    </tr>\n",
       "    <tr>\n",
       "      <th>1</th>\n",
       "      <td>CSP</td>\n",
       "      <td>3</td>\n",
       "    </tr>\n",
       "    <tr>\n",
       "      <th>2</th>\n",
       "      <td>Coal</td>\n",
       "      <td>1208</td>\n",
       "    </tr>\n",
       "    <tr>\n",
       "      <th>3</th>\n",
       "      <td>Biopower</td>\n",
       "      <td>64</td>\n",
       "    </tr>\n",
       "    <tr>\n",
       "      <th>4</th>\n",
       "      <td>Natural Gas</td>\n",
       "      <td>1273</td>\n",
       "    </tr>\n",
       "    <tr>\n",
       "      <th>5</th>\n",
       "      <td>Wind</td>\n",
       "      <td>254</td>\n",
       "    </tr>\n",
       "    <tr>\n",
       "      <th>6</th>\n",
       "      <td>Geothermal</td>\n",
       "      <td>16</td>\n",
       "    </tr>\n",
       "    <tr>\n",
       "      <th>7</th>\n",
       "      <td>PV</td>\n",
       "      <td>50</td>\n",
       "    </tr>\n",
       "  </tbody>\n",
       "</table>\n",
       "</div>"
      ],
      "text/plain": [
       "         Fuel   Energy Billion kWh\n",
       "0      Nuclear                 805\n",
       "1          CSP                   3\n",
       "2         Coal                1208\n",
       "3     Biopower                  64\n",
       "4  Natural Gas                1273\n",
       "5         Wind                 254\n",
       "6   Geothermal                  16\n",
       "7           PV                  50"
      ]
     },
     "execution_count": 4,
     "metadata": {},
     "output_type": "execute_result"
    }
   ],
   "source": [
    "energyPro = pd.read_csv(r'./TotalEnergyGenerationUSA2017.csv')\n",
    "energyPro"
   ]
  },
  {
   "cell_type": "code",
   "execution_count": 45,
   "metadata": {},
   "outputs": [
    {
     "data": {
      "text/html": [
       "<div>\n",
       "<style scoped>\n",
       "    .dataframe tbody tr th:only-of-type {\n",
       "        vertical-align: middle;\n",
       "    }\n",
       "\n",
       "    .dataframe tbody tr th {\n",
       "        vertical-align: top;\n",
       "    }\n",
       "\n",
       "    .dataframe thead th {\n",
       "        text-align: right;\n",
       "    }\n",
       "</style>\n",
       "<table border=\"1\" class=\"dataframe\">\n",
       "  <thead>\n",
       "    <tr style=\"text-align: right;\">\n",
       "      <th></th>\n",
       "      <th>Fuel</th>\n",
       "      <th>Water gal/MWh</th>\n",
       "      <th>Energy in Billion kWh</th>\n",
       "      <th>TotalWater Consumed Billion-Gallons</th>\n",
       "    </tr>\n",
       "  </thead>\n",
       "  <tbody>\n",
       "    <tr>\n",
       "      <th>2</th>\n",
       "      <td>Coal</td>\n",
       "      <td>462.732143</td>\n",
       "      <td>1208</td>\n",
       "      <td>558.980429</td>\n",
       "    </tr>\n",
       "    <tr>\n",
       "      <th>0</th>\n",
       "      <td>Nuclear</td>\n",
       "      <td>536.333333</td>\n",
       "      <td>805</td>\n",
       "      <td>431.748333</td>\n",
       "    </tr>\n",
       "    <tr>\n",
       "      <th>4</th>\n",
       "      <td>Natural Gas</td>\n",
       "      <td>321.100000</td>\n",
       "      <td>1273</td>\n",
       "      <td>408.760300</td>\n",
       "    </tr>\n",
       "    <tr>\n",
       "      <th>3</th>\n",
       "      <td>Biopower</td>\n",
       "      <td>438.875000</td>\n",
       "      <td>64</td>\n",
       "      <td>28.088000</td>\n",
       "    </tr>\n",
       "    <tr>\n",
       "      <th>5</th>\n",
       "      <td>Geothermal</td>\n",
       "      <td>232.888889</td>\n",
       "      <td>16</td>\n",
       "      <td>3.726222</td>\n",
       "    </tr>\n",
       "    <tr>\n",
       "      <th>1</th>\n",
       "      <td>CSP</td>\n",
       "      <td>531.214286</td>\n",
       "      <td>3</td>\n",
       "      <td>1.593643</td>\n",
       "    </tr>\n",
       "    <tr>\n",
       "      <th>6</th>\n",
       "      <td>PV</td>\n",
       "      <td>2.000000</td>\n",
       "      <td>50</td>\n",
       "      <td>0.100000</td>\n",
       "    </tr>\n",
       "    <tr>\n",
       "      <th>7</th>\n",
       "      <td>Wind</td>\n",
       "      <td>0.000000</td>\n",
       "      <td>254</td>\n",
       "      <td>0.000000</td>\n",
       "    </tr>\n",
       "  </tbody>\n",
       "</table>\n",
       "</div>"
      ],
      "text/plain": [
       "          Fuel  Water gal/MWh  Energy in Billion kWh  \\\n",
       "2         Coal     462.732143                   1208   \n",
       "0      Nuclear     536.333333                    805   \n",
       "4  Natural Gas     321.100000                   1273   \n",
       "3     Biopower     438.875000                     64   \n",
       "5   Geothermal     232.888889                     16   \n",
       "1          CSP     531.214286                      3   \n",
       "6           PV       2.000000                     50   \n",
       "7         Wind       0.000000                    254   \n",
       "\n",
       "   TotalWater Consumed Billion-Gallons  \n",
       "2                           558.980429  \n",
       "0                           431.748333  \n",
       "4                           408.760300  \n",
       "3                            28.088000  \n",
       "5                             3.726222  \n",
       "1                             1.593643  \n",
       "6                             0.100000  \n",
       "7                             0.000000  "
      ]
     },
     "execution_count": 45,
     "metadata": {},
     "output_type": "execute_result"
    }
   ],
   "source": [
    "energyPro.columns = ['Fuel','Energy in Billion kWh']\n",
    "energyPro.set_index(keys=['Fuel'])\n",
    "totalWater = waterConsumption.merge(energyPro,on='Fuel')\n",
    "totalWater.head()\n",
    "totalWater['TotalWater Consumed Billion-Gallons'] = totalWater['Water gal/MWh']*totalWater['Energy in Billion kWh']/1000 # dividing by 1000 for MW\n",
    "totalWater = totalWater.sort_values(by='TotalWater Consumed Billion-Gallons', ascending=False)\n",
    "totalWater.to_csv('./totalWaterConsumedbyEnergySource.csv')\n",
    "\n",
    "totalWater"
   ]
  },
  {
   "cell_type": "code",
   "execution_count": 40,
   "metadata": {},
   "outputs": [
    {
     "data": {
      "text/plain": [
       "<matplotlib.axes._subplots.AxesSubplot at 0x7f5c01fd7668>"
      ]
     },
     "execution_count": 40,
     "metadata": {},
     "output_type": "execute_result"
    },
    {
     "data": {
      "image/png": "[encoded data removed]",
      "text/plain": [
       "<Figure size 432x288 with 1 Axes>"
      ]
     },
     "metadata": {},
     "output_type": "display_data"
    }
   ],
   "source": [
    "totalWater.plot.bar(x='Fuel',y = 'TotalWater Consumed Billion-Gallons')\n"
   ]
  },
  {
   "cell_type": "markdown",
   "metadata": {},
   "source": [
    "    Above is the total water consumption per year for each energy resource\n",
    "\n",
    "> Nuclear power plants, coal power plants, and natural gas power plants withdraw and consume water. The large white smoke emanating from the big stacks of a nuclear plant is actually steam. It is a example of consumption. Water is converted into steam and steam is used to generate electricity. Fossil fuels also use water for withdrawl and consumption. This water is used for cooling different internal processes. Warm waters used in withdrawl can cause algal blooms. \n",
    "\n",
    "> We understand that renewable energy is good for the environment, but one advantage that does not get enough attention is water usage. Though some renewable power plants consume water, like concentrated solar power, they represent a very small portion of renewables installed. Wind power does not consume any water.\n",
    "\n",
    " "
   ]
  },
  {
   "cell_type": "code",
   "execution_count": 47,
   "metadata": {},
   "outputs": [
    {
     "data": {
      "text/html": [
       "<div>\n",
       "<style scoped>\n",
       "    .dataframe tbody tr th:only-of-type {\n",
       "        vertical-align: middle;\n",
       "    }\n",
       "\n",
       "    .dataframe tbody tr th {\n",
       "        vertical-align: top;\n",
       "    }\n",
       "\n",
       "    .dataframe thead th {\n",
       "        text-align: right;\n",
       "    }\n",
       "</style>\n",
       "<table border=\"1\" class=\"dataframe\">\n",
       "  <thead>\n",
       "    <tr style=\"text-align: right;\">\n",
       "      <th></th>\n",
       "      <th></th>\n",
       "      <th>Median Value</th>\n",
       "    </tr>\n",
       "    <tr>\n",
       "      <th>Fuel</th>\n",
       "      <th>Cooling System</th>\n",
       "      <th></th>\n",
       "    </tr>\n",
       "  </thead>\n",
       "  <tbody>\n",
       "    <tr>\n",
       "      <th rowspan=\"3\" valign=\"top\">CSP</th>\n",
       "      <th>Dry</th>\n",
       "      <td>68.333333</td>\n",
       "    </tr>\n",
       "    <tr>\n",
       "      <th>Hybrid</th>\n",
       "      <td>225.600000</td>\n",
       "    </tr>\n",
       "    <tr>\n",
       "      <th>Recirculating</th>\n",
       "      <td>884.956522</td>\n",
       "    </tr>\n",
       "  </tbody>\n",
       "</table>\n",
       "</div>"
      ],
      "text/plain": [
       "                     Median Value\n",
       "Fuel Cooling System              \n",
       "CSP  Dry                68.333333\n",
       "     Hybrid            225.600000\n",
       "     Recirculating     884.956522"
      ]
     },
     "execution_count": 47,
     "metadata": {},
     "output_type": "execute_result"
    }
   ],
   "source": [
    "df[df['Fuel']=='CSP'].groupby(['Fuel','Cooling System']).mean().to_csv('./CSP_water.csv')\n",
    "df[df['Fuel']=='CSP'].groupby(['Fuel','Cooling System']).mean()"
   ]
  },
  {
   "cell_type": "markdown",
   "metadata": {},
   "source": [
    ">Water consumption is primarily dependent on the cooling system. It is evident in terms of concentrated solar power (CSP). If the cooling system is dry, CSP only consumes about 70 gallons/MWh of energy produced--but if the cooling system is recirculating, it consumes a lot of water. Given that the power generated from CSP in the United States is very small (~1700MW currently installed), this is not a big footprint. The key thing to note is that there are technologies which can use very little water in terms of CSP. "
   ]
  },
  {
   "cell_type": "code",
   "execution_count": 42,
   "metadata": {},
   "outputs": [
    {
     "data": {
      "text/html": [
       "<div>\n",
       "<style scoped>\n",
       "    .dataframe tbody tr th:only-of-type {\n",
       "        vertical-align: middle;\n",
       "    }\n",
       "\n",
       "    .dataframe tbody tr th {\n",
       "        vertical-align: top;\n",
       "    }\n",
       "\n",
       "    .dataframe thead th {\n",
       "        text-align: right;\n",
       "    }\n",
       "</style>\n",
       "<table border=\"1\" class=\"dataframe\">\n",
       "  <thead>\n",
       "    <tr style=\"text-align: right;\">\n",
       "      <th></th>\n",
       "      <th></th>\n",
       "      <th>Median Value</th>\n",
       "    </tr>\n",
       "    <tr>\n",
       "      <th>Fuel</th>\n",
       "      <th>Cooling System</th>\n",
       "      <th></th>\n",
       "    </tr>\n",
       "  </thead>\n",
       "  <tbody>\n",
       "    <tr>\n",
       "      <th rowspan=\"3\" valign=\"top\">Nuclear</th>\n",
       "      <th>Once-through</th>\n",
       "      <td>259.25</td>\n",
       "    </tr>\n",
       "    <tr>\n",
       "      <th>Pond</th>\n",
       "      <td>610.00</td>\n",
       "    </tr>\n",
       "    <tr>\n",
       "      <th>Recirculating</th>\n",
       "      <td>696.50</td>\n",
       "    </tr>\n",
       "  </tbody>\n",
       "</table>\n",
       "</div>"
      ],
      "text/plain": [
       "                        Median Value\n",
       "Fuel    Cooling System              \n",
       "Nuclear Once-through          259.25\n",
       "        Pond                  610.00\n",
       "        Recirculating         696.50"
      ]
     },
     "execution_count": 42,
     "metadata": {},
     "output_type": "execute_result"
    }
   ],
   "source": [
    "df[df['Fuel']=='Nuclear'].groupby(['Fuel','Cooling System']).mean()"
   ]
  },
  {
   "cell_type": "markdown",
   "metadata": {},
   "source": [
    "    Compared to CSP, nuclear power produces 20% of the electricity in United States--around 805 Billion kWh of power. To produce that electricity, nuclear power might have consumed 431 billion gallons of water. This should be considered when we look into choosing nuclear power to generate zero carbon electricity.On average 10,000 US families use a billion gallons of water, so nuclear power uses the water of almost 4.3 million families.   \n",
    "    \n",
    "    Nuclear power also generates nuclear waste. The nuclear industry needs to be more transperant about the radio active waste it generates. Should we be worried about the water usage and nuclear waste? What are the long-term plans to save nuclear waste? They need to let everyone know why we shouldn't be worried about the water usage and nuclear waste--and the long term plans to save nuclear waste.   "
   ]
  },
  {
   "cell_type": "code",
   "execution_count": 43,
   "metadata": {},
   "outputs": [
    {
     "data": {
      "text/plain": [
       "431.48"
      ]
     },
     "execution_count": 43,
     "metadata": {},
     "output_type": "execute_result"
    }
   ],
   "source": [
    "nucelarwater = .805*536\n",
    "nucelarwater"
   ]
  },
  {
   "cell_type": "code",
   "execution_count": 44,
   "metadata": {},
   "outputs": [
    {
     "data": {
      "text/html": [
       "<div>\n",
       "<style scoped>\n",
       "    .dataframe tbody tr th:only-of-type {\n",
       "        vertical-align: middle;\n",
       "    }\n",
       "\n",
       "    .dataframe tbody tr th {\n",
       "        vertical-align: top;\n",
       "    }\n",
       "\n",
       "    .dataframe thead th {\n",
       "        text-align: right;\n",
       "    }\n",
       "</style>\n",
       "<table border=\"1\" class=\"dataframe\">\n",
       "  <thead>\n",
       "    <tr style=\"text-align: right;\">\n",
       "      <th></th>\n",
       "      <th></th>\n",
       "      <th>Median Value</th>\n",
       "    </tr>\n",
       "    <tr>\n",
       "      <th>Fuel</th>\n",
       "      <th>Cooling System</th>\n",
       "      <th></th>\n",
       "    </tr>\n",
       "  </thead>\n",
       "  <tbody>\n",
       "    <tr>\n",
       "      <th rowspan=\"3\" valign=\"top\">Coal</th>\n",
       "      <th>Once-through</th>\n",
       "      <td>158.272727</td>\n",
       "    </tr>\n",
       "    <tr>\n",
       "      <th>Pond</th>\n",
       "      <td>440.000000</td>\n",
       "    </tr>\n",
       "    <tr>\n",
       "      <th>Recirculating</th>\n",
       "      <td>558.162162</td>\n",
       "    </tr>\n",
       "  </tbody>\n",
       "</table>\n",
       "</div>"
      ],
      "text/plain": [
       "                     Median Value\n",
       "Fuel Cooling System              \n",
       "Coal Once-through      158.272727\n",
       "     Pond              440.000000\n",
       "     Recirculating     558.162162"
      ]
     },
     "execution_count": 44,
     "metadata": {},
     "output_type": "execute_result"
    }
   ],
   "source": [
    "df[df['Fuel']=='Coal'].groupby(['Fuel','Cooling System']).mean()"
   ]
  },
  {
   "cell_type": "markdown",
   "metadata": {},
   "source": [
    "    Compared to nuclear and coal, wind power is one of the fastest growing industries. Currently 6.3% of energy for the United States comes from wind energy. Unlike nuclear and coal, wind energy doesn't consume any water to produce electricity. This is a good thing. Wind farms are installed in agriculatural land, and wind power builds on the revenue for the land owners. Wind power does not compete with current agriculture in terms of water usage. These two factors have made wind power popular in the Great Plains region. "
   ]
  },
  {
   "cell_type": "markdown",
   "metadata": {},
   "source": [
    "    Solar PV does not consume water either. The very minimal amount of water consumed by solar pv  about 2 gallon/MWh in some solar power plants could be for cleaning panels. The industry is moving away from using this to other methods which don't required water. \n",
    "    It is clear that not all zero carbon energy is the same. Each one has it's own advantages and disadvantages. Nuclear is not a golden answer to our zero carbon future. Neither is just solar or just wind. Our energy mix needs to be both sustainable as well as zero carbon. "
   ]
  },
  {
   "cell_type": "code",
   "execution_count": null,
   "metadata": {},
   "outputs": [],
   "source": []
  }
 ],
 "metadata": {
  "kernelspec": {
   "display_name": "Python 3",
   "language": "python",
   "name": "python3"
  },
  "language_info": {
   "codemirror_mode": {
    "name": "ipython",
    "version": 3
   },
   "file_extension": ".py",
   "mimetype": "text/x-python",
   "name": "python",
   "nbconvert_exporter": "python",
   "pygments_lexer": "ipython3",
   "version": "3.6.5"
  }
 },
 "nbformat": 4,
 "nbformat_minor": 2
}
